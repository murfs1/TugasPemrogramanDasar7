{
 "cells": [
  {
   "cell_type": "markdown",
   "id": "5103a189",
   "metadata": {},
   "source": [
    "### Tugas Sesi 7"
   ]
  },
  {
   "cell_type": "markdown",
   "id": "f2a8d1a9",
   "metadata": {},
   "source": [
    "<p>1.\tBuatlah program untuk membalik sebuah kalimat, misal:<br>\n",
    "input : “LUPA-LUPA INGAT” <br>\n",
    "output : “TAGNI APUL-APUL”\n",
    "</p>"
   ]
  },
  {
   "cell_type": "code",
   "execution_count": 3,
   "id": "ab8e359f",
   "metadata": {},
   "outputs": [
    {
     "name": "stdout",
     "output_type": "stream",
     "text": [
      "masukkan teks :LUPA-LUPA INGAT\n",
      "Hasil :  TAGNI APUL-APUL\n"
     ]
    }
   ],
   "source": [
    "def pembalik(teks):\n",
    "    list = [] \n",
    "    hasil = ''\n",
    "    for i in range (len (teks)) :\n",
    "        list.append(teks[i]) \n",
    "    while list != [] :\n",
    "        hasil += list.pop() \n",
    "    return hasil \n",
    "a = input(\"masukkan teks :\") \n",
    "print(\"Hasil : \", pembalik (a))"
   ]
  },
  {
   "cell_type": "markdown",
   "id": "89748980",
   "metadata": {},
   "source": [
    "<p>2.\tBuatlah program untuk menghitung jumlah masing-masing huruf vokal, dengan output seperti berikut ini:</p>\n",
    "<p>kalimat : “Universitas Nusa Putera”</p>\n",
    "<p>output :</p>\n",
    "<ul>\n",
    "  <li>Jumlah huruf A = 3</li>\n",
    "  <li>Jumlah huruf I =  2</li>\n",
    "  <li>Jumlah huruf U = 3</li>\n",
    "  <li>Jumlah huruf E = 2</li>\n",
    "  <li>Jumlah huruf O = 0</li>\n",
    "  <li>Total jumlah huruf vokal = 10</li>\n",
    "</ul>"
   ]
  },
  {
   "cell_type": "code",
   "execution_count": 8,
   "id": "985495d9",
   "metadata": {},
   "outputs": [
    {
     "name": "stdout",
     "output_type": "stream",
     "text": [
      "Tuliskan teks: Universitas Nusa Putera\n",
      "  A -> 3\n",
      "  I -> 2\n",
      "  U -> 3\n",
      "  E -> 2\n",
      "  O -> 0\n",
      "Total huruf vokal: 10\n"
     ]
    }
   ],
   "source": [
    "teks = input('Tuliskan teks: ').upper()\n",
    "dictionary_huruf_vokal = {\n",
    "  'A': 0,\n",
    "  'I': 0,\n",
    "  'U': 0,\n",
    "  'E': 0,\n",
    "  'O': 0\n",
    "}\n",
    "\n",
    "for huruf_vokal in dictionary_huruf_vokal.keys():\n",
    "  dictionary_huruf_vokal[huruf_vokal] = teks.count(huruf_vokal)\n",
    "\n",
    "total_huruf_vokal = sum(dictionary_huruf_vokal.values())\n",
    "\n",
    "print(f\"\"\"\\\n",
    "  A -> {dictionary_huruf_vokal['A']}\n",
    "  I -> {dictionary_huruf_vokal['I']}\n",
    "  U -> {dictionary_huruf_vokal['U']}\n",
    "  E -> {dictionary_huruf_vokal['E']}\n",
    "  O -> {dictionary_huruf_vokal['O']}\\\n",
    "\"\"\")\n",
    "print(f'Total huruf vokal: {total_huruf_vokal}')"
   ]
  }
 ],
 "metadata": {
  "kernelspec": {
   "display_name": "Python 3 (ipykernel)",
   "language": "python",
   "name": "python3"
  },
  "language_info": {
   "codemirror_mode": {
    "name": "ipython",
    "version": 3
   },
   "file_extension": ".py",
   "mimetype": "text/x-python",
   "name": "python",
   "nbconvert_exporter": "python",
   "pygments_lexer": "ipython3",
   "version": "3.9.12"
  }
 },
 "nbformat": 4,
 "nbformat_minor": 5
}
